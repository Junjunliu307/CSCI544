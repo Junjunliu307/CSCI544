{
  "nbformat": 4,
  "nbformat_minor": 0,
  "metadata": {
    "colab": {
      "provenance": [],
      "gpuType": "T4"
    },
    "kernelspec": {
      "name": "python3",
      "display_name": "Python 3"
    },
    "language_info": {
      "name": "python"
    },
    "accelerator": "GPU"
  },
  "cells": [
    {
      "cell_type": "code",
      "execution_count": 1,
      "metadata": {
        "colab": {
          "base_uri": "https://localhost:8080/"
        },
        "id": "o6yuRnmeZtre",
        "outputId": "b5b78660-b1c9-4015-c0fb-7e364b04dc4b"
      },
      "outputs": [
        {
          "output_type": "stream",
          "name": "stdout",
          "text": [
            "Drive already mounted at /content/drive; to attempt to forcibly remount, call drive.mount(\"/content/drive\", force_remount=True).\n"
          ]
        }
      ],
      "source": [
        "from google.colab import drive\n",
        "drive.mount('/content/drive')"
      ]
    },
    {
      "cell_type": "code",
      "source": [
        "import pandas as pd\n",
        "import numpy as np\n",
        "import torch\n",
        "import torch.nn as nn\n",
        "import torch.optim as optim\n",
        "from sklearn.model_selection import train_test_split\n",
        "from sklearn.preprocessing import LabelEncoder\n",
        "from sklearn.metrics import roc_auc_score\n",
        "from torch.utils.data import Dataset, DataLoader\n",
        "import matplotlib.pyplot as plt"
      ],
      "metadata": {
        "id": "93BinMR9aUm0"
      },
      "execution_count": 2,
      "outputs": []
    },
    {
      "cell_type": "code",
      "source": [
        "print(pd.read_csv(\"/content/drive/MyDrive/Rec_data/impression_1M_50.csv\", nrows=1).columns.tolist())"
      ],
      "metadata": {
        "colab": {
          "base_uri": "https://localhost:8080/"
        },
        "id": "TaP68VmOaI4h",
        "outputId": "ded0b375-16d5-43eb-ea6c-2d853077424f"
      },
      "execution_count": 3,
      "outputs": [
        {
          "output_type": "stream",
          "name": "stdout",
          "text": [
            "['user_id', 'answer_id', 'label', 'register_timestamp', 'gender', 'login_frequency', 'followers', 'topics_followed', 'questions_followed', 'answers', 'questions', 'comments', 'thanks_received', 'comments_received', 'likes_received', 'dislikes_received', 'register_type', 'register_platform', 'from_android', 'from_iphone', 'from_ipad', 'from_pc', 'from_mobile_web', 'device_model', 'device_brand', 'platform', 'province', 'city', 'question_id', 'is_anonymous', 'author_id', 'is_high_value', 'is_editor_recommended', 'has_pictures', 'has_videos', 'thanks_count', 'likes_count', 'comments_count', 'collections_count', 'dislikes_count', 'reports_count', 'helpless_count', 'answer_vector', 'question_answer', 'question_follower', 'question_invitation', 'question_comments', 'is_excellent_author', 'author_follower_count', 'is_excellent_answerer']\n"
          ]
        }
      ]
    },
    {
      "cell_type": "code",
      "source": [
        "import pandas as pd\n",
        "import numpy as np\n",
        "import torch\n",
        "import torch.nn as nn\n",
        "import torch.optim as optim\n",
        "from sklearn.model_selection import train_test_split\n",
        "from sklearn.preprocessing import LabelEncoder\n",
        "from sklearn.metrics import roc_auc_score\n",
        "from torch.utils.data import Dataset, DataLoader\n",
        "import matplotlib.pyplot as plt\n",
        "\n",
        "EMBED_DIM = 16\n",
        "BATCH_SIZE = 1024\n",
        "EPOCHS = 10\n",
        "LR = 0.0001\n",
        "\n",
        "ads = pd.read_csv(\"/content/drive/MyDrive/Rec_data/impression_1M_50.csv\")\n",
        "ads = ads.sample(frac=1.0, random_state=42).reset_index(drop=True)\n",
        "\n",
        "cat_features = [\n",
        "    'user_id', 'answer_id', 'question_id', 'author_id',\n",
        "    'gender', 'register_type', 'register_platform',\n",
        "    'device_model', 'device_brand', 'platform',\n",
        "    'province', 'city',\n",
        "    'from_android', 'from_iphone', 'from_ipad',\n",
        "    'from_pc', 'from_mobile_web',\n",
        "    'is_anonymous', 'is_high_value', 'is_editor_recommended',\n",
        "    'has_pictures', 'has_videos',\n",
        "    'is_excellent_author', 'is_excellent_answerer'\n",
        "]\n",
        "\n",
        "num_features = [\n",
        "    'register_timestamp', 'login_frequency',\n",
        "    'followers', 'topics_followed', 'questions_followed',\n",
        "    'answers', 'questions', 'comments',\n",
        "    'thanks_received', 'comments_received',\n",
        "    'likes_received', 'dislikes_received',\n",
        "    'thanks_count', 'likes_count', 'comments_count',\n",
        "    'collections_count', 'dislikes_count',\n",
        "    'reports_count', 'helpless_count',\n",
        "    'question_answer', 'question_follower',\n",
        "    'question_invitation', 'question_comments',\n",
        "    'author_follower_count'\n",
        "]\n",
        "\n",
        "for col in cat_features:\n",
        "    ads[col] = LabelEncoder().fit_transform(ads[col].astype(str))\n",
        "\n",
        "field_dims = [ads[col].nunique() for col in cat_features]\n",
        "cross_idx = [0, 1]  # Placeholder indices; update based on actual interaction fields if needed\n",
        "\n",
        "# Dummy answer vectors for demonstration purposes\n",
        "# answer_vec = torch.randn(len(ads), 768)\n",
        "ads['answer_vector'] = ads['answer_vector'] \\\n",
        "    .apply(lambda x: np.fromstring(x.strip('[]'), sep=' '))\n",
        "\n",
        "\n",
        "answer_vec = torch.tensor(\n",
        "    np.stack(ads['answer_vector'].values),\n",
        "    dtype=torch.float32\n",
        ")\n",
        "\n",
        "\n",
        "X_cat = torch.LongTensor(ads[cat_features].values)\n",
        "X_num = torch.FloatTensor(ads[num_features].fillna(-1).values)\n",
        "y = torch.FloatTensor(ads['label'].values)\n",
        "# answer_vec = ads['answer_vector']  # Assuming provided or generated externally\n",
        "# answer_vec = torch.tensor(np.stack(answer_vec.values), dtype=torch.float32)\n",
        "\n",
        "# Train/Val/Test split\n",
        "train_size = int(0.8 * len(ads))\n",
        "val_size = int(0.1 * len(ads))\n",
        "test_size = len(ads) - train_size - val_size\n",
        "\n",
        "X_c_train, X_c_temp = torch.split(X_cat, [train_size, val_size + test_size])\n",
        "X_n_train, X_n_temp = torch.split(X_num, [train_size, val_size + test_size])\n",
        "y_train, y_temp = torch.split(y, [train_size, val_size + test_size])\n",
        "vec_train, vec_temp = torch.split(answer_vec, [train_size, val_size + test_size])\n",
        "\n",
        "X_c_val, X_c_test = torch.split(X_c_temp, [val_size, test_size])\n",
        "X_n_val, X_n_test = torch.split(X_n_temp, [val_size, test_size])\n",
        "y_val, y_test = torch.split(y_temp, [val_size, test_size])\n",
        "vec_val, vec_test = torch.split(vec_temp, [val_size, test_size])\n",
        "\n",
        "class RecDataset(Dataset):\n",
        "    def __init__(self, cat, num, y, answer_vec):\n",
        "        self.cat, self.num, self.y, self.vec = cat, num, y, answer_vec\n",
        "    def __len__(self): return len(self.y)\n",
        "    def __getitem__(self, i):\n",
        "        return self.cat[i], self.num[i], self.y[i], self.vec[i]\n",
        "\n",
        "train_loader = DataLoader(RecDataset(X_c_train, X_n_train, y_train, vec_train), batch_size=BATCH_SIZE, shuffle=True)\n",
        "val_loader = DataLoader(RecDataset(X_c_val, X_n_val, y_val, vec_val), batch_size=BATCH_SIZE)\n",
        "test_loader = DataLoader(RecDataset(X_c_test, X_n_test, y_test, vec_test), batch_size=BATCH_SIZE)\n",
        "\n",
        "\n"
      ],
      "metadata": {
        "id": "GiEcwehlbSPD"
      },
      "execution_count": 4,
      "outputs": []
    },
    {
      "cell_type": "code",
      "source": [
        "class FM(nn.Module):\n",
        "    def forward(self, emb):\n",
        "        square_sum = torch.sum(emb, dim=1)**2\n",
        "        sum_square = torch.sum(emb**2, dim=1)\n",
        "        return 0.5 * (square_sum - sum_square)\n",
        "\n",
        "class DINDeepFM(nn.Module):\n",
        "    def __init__(self, field_dims, cross_idx, emb_dim=EMBED_DIM , vec_dim=64,num_dim=len(num_features)):\n",
        "        super().__init__()\n",
        "        self.embeddings = nn.ModuleList([nn.Embedding(d, emb_dim) for d in field_dims])\n",
        "        self.fm = FM()\n",
        "        self.cross_idx = cross_idx\n",
        "        # self.answer_proj = nn.Linear(vec_dim, emb_dim)\n",
        "        self.mlp = nn.Sequential(\n",
        "            # nn.Linear(emb_dim * len(field_dims) + emb_dim + 1, 128),\n",
        "            # nn.Linear(emb_dim * len(field_dims) + emb_dim + len(num_features) + emb_dim, 128),\n",
        "            nn.Linear((emb_dim * len(field_dims))+ len(num_features) + vec_dim, 256),\n",
        "            nn.ReLU(), nn.Dropout(0.2),\n",
        "            nn.Linear(256, 128), nn.ReLU(), nn.Linear(128, 1)\n",
        "        )\n",
        "        self.num_bn = nn.BatchNorm1d(num_dim)\n",
        "\n",
        "    def forward(self, x_cat, x_num, answer_vec):\n",
        "        num_norm=self.num_bn(x_num)\n",
        "        embs = [emb(x_cat[:, i]) for i, emb in enumerate(self.embeddings)]\n",
        "        fm_out = self.fm(torch.stack([embs[i] for i in self.cross_idx], dim=1))\n",
        "        # answer_vec = self.answer_proj(answer_vec.detach())\n",
        "        # final = torch.cat([*embs, fm_out, x_num, answer_vec], dim=1)\n",
        "        final = torch.cat([*embs,num_norm,answer_vec], dim=1)\n",
        "        return self.mlp(final).squeeze()\n",
        "\n",
        "device = torch.device(\"cuda\" if torch.cuda.is_available() else \"cpu\")\n",
        "model = DINDeepFM(field_dims, cross_idx).to(device)\n",
        "criterion = nn.BCEWithLogitsLoss()\n",
        "optimizer = optim.Adam(model.parameters(), lr=LR)\n",
        "\n",
        "losses, aucs = [], []\n",
        "for epoch in range(EPOCHS):\n",
        "    model.train(); total_loss = 0\n",
        "    for xc, xn, yb, vec in train_loader:\n",
        "        xc, xn, yb, vec = xc.to(device), xn.to(device), yb.to(device), vec.to(device)\n",
        "        pred = model(xc, xn, vec)\n",
        "        loss = criterion(pred, yb)\n",
        "        optimizer.zero_grad(); loss.backward(); optimizer.step()\n",
        "        total_loss += loss.item()\n",
        "\n",
        "    model.eval(); preds, labels = [], []\n",
        "    with torch.no_grad():\n",
        "        for xc, xn, yb, vec in val_loader:\n",
        "            xc, xn, vec = xc.to(device), xn.to(device), vec.to(device)\n",
        "            pred = model(xc, xn, vec)\n",
        "            preds.extend(torch.sigmoid(pred).cpu().numpy())\n",
        "            labels.extend(yb.numpy())\n",
        "    auc = roc_auc_score(labels, preds)\n",
        "    print(f\"Epoch {epoch+1}: Loss={total_loss/len(train_loader):.4f}, AUC={auc:.4f}\")\n",
        "    losses.append(total_loss / len(train_loader))\n",
        "    aucs.append(auc)\n",
        "\n",
        "model.eval(); test_preds, test_labels = [], []\n",
        "with torch.no_grad():\n",
        "    for xc, xn, yb, vec in test_loader:\n",
        "        xc, xn, vec = xc.to(device), xn.to(device), vec.to(device)\n",
        "        pred = model(xc, xn, vec)\n",
        "        test_preds.extend(torch.sigmoid(pred).cpu().numpy())\n",
        "        test_labels.extend(yb.numpy())\n",
        "test_auc = roc_auc_score(test_labels, test_preds)\n",
        "print(f\"\\n Final Test AUC: {test_auc:.4f}\")\n",
        "\n",
        "plt.figure(figsize=(10, 4))\n",
        "plt.subplot(1, 2, 1); plt.plot(losses); plt.title(\"Loss\")\n",
        "plt.subplot(1, 2, 2); plt.plot(aucs); plt.title(\"Validation AUC\")\n",
        "plt.suptitle(f\"Test AUC = {test_auc:.4f}\")\n",
        "plt.tight_layout(); plt.show()"
      ],
      "metadata": {
        "colab": {
          "base_uri": "https://localhost:8080/",
          "height": 627
        },
        "id": "htdE6sRLbdu0",
        "outputId": "aca06c69-5734-4726-dee8-46ea6340071b"
      },
      "execution_count": 11,
      "outputs": [
        {
          "output_type": "stream",
          "name": "stdout",
          "text": [
            "Epoch 1: Loss=0.5726, AUC=0.6084\n",
            "Epoch 2: Loss=0.5670, AUC=0.6176\n",
            "Epoch 3: Loss=0.5641, AUC=0.6245\n",
            "Epoch 4: Loss=0.5609, AUC=0.6328\n",
            "Epoch 5: Loss=0.5578, AUC=0.6398\n",
            "Epoch 6: Loss=0.5548, AUC=0.6443\n",
            "Epoch 7: Loss=0.5517, AUC=0.6493\n",
            "Epoch 8: Loss=0.5490, AUC=0.6525\n",
            "Epoch 9: Loss=0.5464, AUC=0.6563\n",
            "Epoch 10: Loss=0.5443, AUC=0.6570\n",
            "\n",
            " Final Test AUC: 0.6559\n"
          ]
        },
        {
          "output_type": "display_data",
          "data": {
            "text/plain": [
              "<Figure size 1000x400 with 2 Axes>"
            ],
            "image/png": "[encoded data removed]"
          },
          "metadata": {}
        }
      ]
    }
  ]
}